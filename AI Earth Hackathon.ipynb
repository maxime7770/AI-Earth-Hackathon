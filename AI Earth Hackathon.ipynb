{
 "cells": [
  {
   "cell_type": "code",
   "execution_count": 2,
   "id": "4ddfc194",
   "metadata": {},
   "outputs": [],
   "source": [
    "import pandas as pd\n",
    "import numpy as np"
   ]
  },
  {
   "cell_type": "code",
   "execution_count": 6,
   "id": "5fe904c2",
   "metadata": {},
   "outputs": [],
   "source": [
    "df = pd.read_csv('AI EarthHack Dataset.csv', encoding='latin-1')"
   ]
  },
  {
   "cell_type": "code",
   "execution_count": 7,
   "id": "a618e4ab",
   "metadata": {},
   "outputs": [
    {
     "data": {
      "text/html": [
       "<div>\n",
       "<style scoped>\n",
       "    .dataframe tbody tr th:only-of-type {\n",
       "        vertical-align: middle;\n",
       "    }\n",
       "\n",
       "    .dataframe tbody tr th {\n",
       "        vertical-align: top;\n",
       "    }\n",
       "\n",
       "    .dataframe thead th {\n",
       "        text-align: right;\n",
       "    }\n",
       "</style>\n",
       "<table border=\"1\" class=\"dataframe\">\n",
       "  <thead>\n",
       "    <tr style=\"text-align: right;\">\n",
       "      <th></th>\n",
       "      <th>id</th>\n",
       "      <th>problem</th>\n",
       "      <th>solution</th>\n",
       "    </tr>\n",
       "  </thead>\n",
       "  <tbody>\n",
       "    <tr>\n",
       "      <th>0</th>\n",
       "      <td>1</td>\n",
       "      <td>The construction industry is indubitably one o...</td>\n",
       "      <td>Herein, we propose an innovative approach to m...</td>\n",
       "    </tr>\n",
       "    <tr>\n",
       "      <th>1</th>\n",
       "      <td>2</td>\n",
       "      <td>I'm sure you, like me, are feeling the heat - ...</td>\n",
       "      <td>Imagine standing on a green hill, not a single...</td>\n",
       "    </tr>\n",
       "    <tr>\n",
       "      <th>2</th>\n",
       "      <td>3</td>\n",
       "      <td>The massive shift in student learning towards ...</td>\n",
       "      <td>Implement a \"\"Book Swap\"\" program within educa...</td>\n",
       "    </tr>\n",
       "    <tr>\n",
       "      <th>3</th>\n",
       "      <td>4</td>\n",
       "      <td>The fashion industry is one of the top contrib...</td>\n",
       "      <td>The proposed solution is a garment rental serv...</td>\n",
       "    </tr>\n",
       "    <tr>\n",
       "      <th>4</th>\n",
       "      <td>5</td>\n",
       "      <td>The majority of the materials used in producin...</td>\n",
       "      <td>An innovative concept would be a modular elect...</td>\n",
       "    </tr>\n",
       "  </tbody>\n",
       "</table>\n",
       "</div>"
      ],
      "text/plain": [
       "   id                                            problem  \\\n",
       "0   1  The construction industry is indubitably one o...   \n",
       "1   2  I'm sure you, like me, are feeling the heat - ...   \n",
       "2   3  The massive shift in student learning towards ...   \n",
       "3   4  The fashion industry is one of the top contrib...   \n",
       "4   5  The majority of the materials used in producin...   \n",
       "\n",
       "                                            solution  \n",
       "0  Herein, we propose an innovative approach to m...  \n",
       "1  Imagine standing on a green hill, not a single...  \n",
       "2  Implement a \"\"Book Swap\"\" program within educa...  \n",
       "3  The proposed solution is a garment rental serv...  \n",
       "4  An innovative concept would be a modular elect...  "
      ]
     },
     "execution_count": 7,
     "metadata": {},
     "output_type": "execute_result"
    }
   ],
   "source": [
    "df.head()"
   ]
  },
  {
   "cell_type": "code",
   "execution_count": 8,
   "id": "cfda5eac",
   "metadata": {},
   "outputs": [
    {
     "data": {
      "text/plain": [
       "\"Herein, we propose an innovative approach to mitigate this problem: Modular Construction. This method embraces recycling and reuse, taking a significant stride towards a circular economy.   Modular construction involves utilizing engineered components in a manufacturing facility that are later assembled on-site. These components are designed for easy disassembling, enabling them to be reused in diverse projects, thus significantly reducing waste and conserving resources.  Not only does this method decrease construction waste by up to 90%, but it also decreases construction time by 30-50%, optimizing both environmental and financial efficiency. This reduction in time corresponds to substantial financial savings for businesses. Moreover, the modular approach allows greater flexibility, adapting to changing needs over time.  We believe, by adopting modular construction, the industry can transit from a 'take, make and dispose' model to a more sustainable 'reduce, reuse, and recycle' model, driving the industry towards a more circular and sustainable future. The feasibility of this concept is already being proven in markets around the globe, indicating its potential for scalability and real-world application.\""
      ]
     },
     "execution_count": 8,
     "metadata": {},
     "output_type": "execute_result"
    }
   ],
   "source": [
    "df[\"solution\"][0]"
   ]
  },
  {
   "cell_type": "code",
   "execution_count": 9,
   "id": "92c36a9e",
   "metadata": {},
   "outputs": [],
   "source": [
    "import spacy"
   ]
  },
  {
   "cell_type": "code",
   "execution_count": 10,
   "id": "f6859fca",
   "metadata": {},
   "outputs": [],
   "source": [
    "nlp = spacy.load(\"en_core_web_sm\")"
   ]
  },
  {
   "cell_type": "code",
   "execution_count": 11,
   "id": "ba5a45e8",
   "metadata": {},
   "outputs": [],
   "source": [
    "doc = nlp(df[\"solution\"][0])"
   ]
  },
  {
   "cell_type": "code",
   "execution_count": 15,
   "id": "0f4b9fdb",
   "metadata": {},
   "outputs": [
    {
     "data": {
      "text/plain": [
       "['Herein',\n",
       " ',',\n",
       " 'we',\n",
       " 'propose',\n",
       " 'an',\n",
       " 'innovative',\n",
       " 'approach',\n",
       " 'to',\n",
       " 'mitigate',\n",
       " 'this',\n",
       " 'problem',\n",
       " ':',\n",
       " 'Modular',\n",
       " 'Construction',\n",
       " '.',\n",
       " 'This',\n",
       " 'method',\n",
       " 'embraces',\n",
       " 'recycling',\n",
       " 'and',\n",
       " 'reuse',\n",
       " ',',\n",
       " 'taking',\n",
       " 'a',\n",
       " 'significant',\n",
       " 'stride',\n",
       " 'towards',\n",
       " 'a',\n",
       " 'circular',\n",
       " 'economy',\n",
       " '.',\n",
       " '  ',\n",
       " 'Modular',\n",
       " 'construction',\n",
       " 'involves',\n",
       " 'utilizing',\n",
       " 'engineered',\n",
       " 'components',\n",
       " 'in',\n",
       " 'a',\n",
       " 'manufacturing',\n",
       " 'facility',\n",
       " 'that',\n",
       " 'are',\n",
       " 'later',\n",
       " 'assembled',\n",
       " 'on',\n",
       " '-',\n",
       " 'site',\n",
       " '.',\n",
       " 'These',\n",
       " 'components',\n",
       " 'are',\n",
       " 'designed',\n",
       " 'for',\n",
       " 'easy',\n",
       " 'disassembling',\n",
       " ',',\n",
       " 'enabling',\n",
       " 'them',\n",
       " 'to',\n",
       " 'be',\n",
       " 'reused',\n",
       " 'in',\n",
       " 'diverse',\n",
       " 'projects',\n",
       " ',',\n",
       " 'thus',\n",
       " 'significantly',\n",
       " 'reducing',\n",
       " 'waste',\n",
       " 'and',\n",
       " 'conserving',\n",
       " 'resources',\n",
       " '.',\n",
       " ' ',\n",
       " 'Not',\n",
       " 'only',\n",
       " 'does',\n",
       " 'this',\n",
       " 'method',\n",
       " 'decrease',\n",
       " 'construction',\n",
       " 'waste',\n",
       " 'by',\n",
       " 'up',\n",
       " 'to',\n",
       " '90',\n",
       " '%',\n",
       " ',',\n",
       " 'but',\n",
       " 'it',\n",
       " 'also',\n",
       " 'decreases',\n",
       " 'construction',\n",
       " 'time',\n",
       " 'by',\n",
       " '30',\n",
       " '-',\n",
       " '50',\n",
       " '%',\n",
       " ',',\n",
       " 'optimizing',\n",
       " 'both',\n",
       " 'environmental',\n",
       " 'and',\n",
       " 'financial',\n",
       " 'efficiency',\n",
       " '.',\n",
       " 'This',\n",
       " 'reduction',\n",
       " 'in',\n",
       " 'time',\n",
       " 'corresponds',\n",
       " 'to',\n",
       " 'substantial',\n",
       " 'financial',\n",
       " 'savings',\n",
       " 'for',\n",
       " 'businesses',\n",
       " '.',\n",
       " 'Moreover',\n",
       " ',',\n",
       " 'the',\n",
       " 'modular',\n",
       " 'approach',\n",
       " 'allows',\n",
       " 'greater',\n",
       " 'flexibility',\n",
       " ',',\n",
       " 'adapting',\n",
       " 'to',\n",
       " 'changing',\n",
       " 'needs',\n",
       " 'over',\n",
       " 'time',\n",
       " '.',\n",
       " ' ',\n",
       " 'We',\n",
       " 'believe',\n",
       " ',',\n",
       " 'by',\n",
       " 'adopting',\n",
       " 'modular',\n",
       " 'construction',\n",
       " ',',\n",
       " 'the',\n",
       " 'industry',\n",
       " 'can',\n",
       " 'transit',\n",
       " 'from',\n",
       " 'a',\n",
       " \"'\",\n",
       " 'take',\n",
       " ',',\n",
       " 'make',\n",
       " 'and',\n",
       " 'dispose',\n",
       " \"'\",\n",
       " 'model',\n",
       " 'to',\n",
       " 'a',\n",
       " 'more',\n",
       " 'sustainable',\n",
       " \"'\",\n",
       " 'reduce',\n",
       " ',',\n",
       " 'reuse',\n",
       " ',',\n",
       " 'and',\n",
       " 'recycle',\n",
       " \"'\",\n",
       " 'model',\n",
       " ',',\n",
       " 'driving',\n",
       " 'the',\n",
       " 'industry',\n",
       " 'towards',\n",
       " 'a',\n",
       " 'more',\n",
       " 'circular',\n",
       " 'and',\n",
       " 'sustainable',\n",
       " 'future',\n",
       " '.',\n",
       " 'The',\n",
       " 'feasibility',\n",
       " 'of',\n",
       " 'this',\n",
       " 'concept',\n",
       " 'is',\n",
       " 'already',\n",
       " 'being',\n",
       " 'proven',\n",
       " 'in',\n",
       " 'markets',\n",
       " 'around',\n",
       " 'the',\n",
       " 'globe',\n",
       " ',',\n",
       " 'indicating',\n",
       " 'its',\n",
       " 'potential',\n",
       " 'for',\n",
       " 'scalability',\n",
       " 'and',\n",
       " 'real',\n",
       " '-',\n",
       " 'world',\n",
       " 'application',\n",
       " '.']"
      ]
     },
     "execution_count": 15,
     "metadata": {},
     "output_type": "execute_result"
    }
   ],
   "source": [
    "token_list = [token.text for token in doc]\n",
    "token_list"
   ]
  },
  {
   "cell_type": "code",
   "execution_count": 16,
   "id": "c12ee131",
   "metadata": {},
   "outputs": [],
   "source": [
    "entity_list = [(ent.text, ent.label_) for ent in doc.ents]"
   ]
  },
  {
   "cell_type": "code",
   "execution_count": 17,
   "id": "a9bc835e",
   "metadata": {},
   "outputs": [
    {
     "data": {
      "text/plain": [
       "[('Modular Construction', 'ORG'),\n",
       " ('Modular', 'GPE'),\n",
       " ('up to 90%', 'PERCENT'),\n",
       " ('30-50%', 'PERCENT')]"
      ]
     },
     "execution_count": 17,
     "metadata": {},
     "output_type": "execute_result"
    }
   ],
   "source": [
    "entity_list"
   ]
  },
  {
   "cell_type": "code",
   "execution_count": 18,
   "id": "92399e85",
   "metadata": {},
   "outputs": [],
   "source": [
    "doc2 = nlp(df[\"solution\"][1])"
   ]
  },
  {
   "cell_type": "code",
   "execution_count": 19,
   "id": "5281f923",
   "metadata": {},
   "outputs": [
    {
     "data": {
      "text/plain": [
       "[('a green hill', 'LOC'), ('noisy windmill', 'PERSON'), ('tomorrow', 'DATE')]"
      ]
     },
     "execution_count": 19,
     "metadata": {},
     "output_type": "execute_result"
    }
   ],
   "source": [
    "token_list2 = [token.text for token in doc2]\n",
    "token_list2\n",
    "entity_list2 = [(ent.text, ent.label_) for ent in doc2.ents]\n",
    "entity_list2"
   ]
  },
  {
   "cell_type": "code",
   "execution_count": 23,
   "id": "897316b6",
   "metadata": {},
   "outputs": [
    {
     "data": {
      "text/plain": [
       "[('Imagine', 'NOUN'),\n",
       " ('standing', 'VERB'),\n",
       " ('on', 'ADP'),\n",
       " ('a', 'DET'),\n",
       " ('green', 'ADJ'),\n",
       " ('hill', 'PROPN'),\n",
       " (',', 'PUNCT'),\n",
       " ('not', 'PART'),\n",
       " ('a', 'DET'),\n",
       " ('single', 'ADJ'),\n",
       " ('towering', 'NOUN'),\n",
       " (',', 'PUNCT'),\n",
       " ('noisy', 'ADJ'),\n",
       " ('windmill', 'NOUN'),\n",
       " ('in', 'ADP'),\n",
       " ('sight', 'NOUN'),\n",
       " (',', 'PUNCT'),\n",
       " ('and', 'CCONJ'),\n",
       " ('yet', 'ADV'),\n",
       " (',', 'PUNCT'),\n",
       " ('you', 'PRON'),\n",
       " (\"'re\", 'AUX'),\n",
       " ('surrounded', 'VERB'),\n",
       " ('by', 'ADP'),\n",
       " ('wind', 'NOUN'),\n",
       " ('power', 'NOUN'),\n",
       " ('generation', 'NOUN'),\n",
       " ('!', 'PUNCT'),\n",
       " ('Using', 'VERB'),\n",
       " ('existing', 'VERB'),\n",
       " (',', 'PUNCT'),\n",
       " ('yet', 'CCONJ'),\n",
       " ('under', 'ADP'),\n",
       " ('-', 'PUNCT'),\n",
       " ('utilized', 'VERB'),\n",
       " ('technology', 'NOUN'),\n",
       " (',', 'PUNCT'),\n",
       " ('I', 'PRON'),\n",
       " ('propose', 'VERB'),\n",
       " ('a', 'DET'),\n",
       " ('revolutionary', 'ADJ'),\n",
       " ('approach', 'NOUN'),\n",
       " ('to', 'ADP'),\n",
       " ('harness', 'ADJ'),\n",
       " ('wind', 'NOUN'),\n",
       " ('energy', 'NOUN'),\n",
       " ('on', 'ADP'),\n",
       " ('a', 'DET'),\n",
       " ('commercial', 'ADJ'),\n",
       " ('scale', 'NOUN'),\n",
       " (',', 'PUNCT'),\n",
       " ('without', 'ADP'),\n",
       " ('those', 'DET'),\n",
       " ('\"', 'PUNCT'),\n",
       " ('\"', 'PUNCT'),\n",
       " ('monstrously', 'ADV'),\n",
       " ('large', 'ADJ'),\n",
       " ('and', 'CCONJ'),\n",
       " ('environmentally', 'ADV'),\n",
       " ('damaging', 'ADJ'),\n",
       " ('windmills', 'NOUN'),\n",
       " ('\"', 'PUNCT'),\n",
       " ('\"', 'PUNCT'),\n",
       " ('.', 'PUNCT'),\n",
       " ('With', 'ADP'),\n",
       " ('my', 'PRON'),\n",
       " ('idea', 'NOUN'),\n",
       " (',', 'PUNCT'),\n",
       " ('we', 'PRON'),\n",
       " ('could', 'AUX'),\n",
       " ('start', 'VERB'),\n",
       " ('construction', 'NOUN'),\n",
       " ('tomorrow', 'NOUN'),\n",
       " ('and', 'CCONJ'),\n",
       " ('give', 'VERB'),\n",
       " ('our', 'PRON'),\n",
       " ('electrical', 'ADJ'),\n",
       " ('grid', 'NOUN'),\n",
       " ('the', 'DET'),\n",
       " ('jolt', 'NOUN'),\n",
       " ('it', 'PRON'),\n",
       " ('needs', 'VERB'),\n",
       " (',', 'PUNCT'),\n",
       " ('creating', 'VERB'),\n",
       " ('a', 'DET'),\n",
       " ('future', 'NOUN'),\n",
       " ('where', 'SCONJ'),\n",
       " ('clean', 'ADJ'),\n",
       " (',', 'PUNCT'),\n",
       " ('quiet', 'ADJ'),\n",
       " ('and', 'CCONJ'),\n",
       " ('efficient', 'ADJ'),\n",
       " ('energy', 'NOUN'),\n",
       " ('is', 'AUX'),\n",
       " (\"n't\", 'PART'),\n",
       " ('a', 'DET'),\n",
       " ('dream', 'NOUN'),\n",
       " (',', 'PUNCT'),\n",
       " ('but', 'CCONJ'),\n",
       " ('a', 'DET'),\n",
       " ('reality', 'NOUN'),\n",
       " ('we', 'PRON'),\n",
       " ('live', 'VERB'),\n",
       " ('in', 'ADP'),\n",
       " ('.', 'PUNCT'),\n",
       " ('This', 'PRON'),\n",
       " ('is', 'AUX'),\n",
       " ('not', 'PART'),\n",
       " ('about', 'ADV'),\n",
       " ('every', 'DET'),\n",
       " ('home', 'NOUN'),\n",
       " ('being', 'AUX'),\n",
       " ('a', 'DET'),\n",
       " ('power', 'NOUN'),\n",
       " ('station', 'NOUN'),\n",
       " (',', 'PUNCT'),\n",
       " ('but', 'CCONJ'),\n",
       " ('about', 'ADP'),\n",
       " ('businesses', 'NOUN'),\n",
       " ('driving', 'VERB'),\n",
       " ('a', 'DET'),\n",
       " ('green', 'ADJ'),\n",
       " ('revolution', 'NOUN'),\n",
       " ('from', 'ADP'),\n",
       " ('the', 'DET'),\n",
       " ('ground', 'NOUN'),\n",
       " ('up', 'ADP'),\n",
       " ('!', 'PUNCT')]"
      ]
     },
     "execution_count": 23,
     "metadata": {},
     "output_type": "execute_result"
    }
   ],
   "source": [
    "pos_list2 = [(token.text,token.pos_) for token in doc2]\n",
    "pos_list2"
   ]
  },
  {
   "cell_type": "code",
   "execution_count": 24,
   "id": "87049002",
   "metadata": {},
   "outputs": [
    {
     "data": {
      "text/plain": [
       "[('Imagine', 'NOUN'),\n",
       " ('towering', 'NOUN'),\n",
       " ('windmill', 'NOUN'),\n",
       " ('sight', 'NOUN'),\n",
       " ('wind', 'NOUN'),\n",
       " ('power', 'NOUN'),\n",
       " ('generation', 'NOUN'),\n",
       " ('technology', 'NOUN'),\n",
       " ('approach', 'NOUN'),\n",
       " ('wind', 'NOUN'),\n",
       " ('energy', 'NOUN'),\n",
       " ('scale', 'NOUN'),\n",
       " ('windmills', 'NOUN'),\n",
       " ('idea', 'NOUN'),\n",
       " ('construction', 'NOUN'),\n",
       " ('tomorrow', 'NOUN'),\n",
       " ('grid', 'NOUN'),\n",
       " ('jolt', 'NOUN'),\n",
       " ('future', 'NOUN'),\n",
       " ('energy', 'NOUN'),\n",
       " ('dream', 'NOUN'),\n",
       " ('reality', 'NOUN'),\n",
       " ('home', 'NOUN'),\n",
       " ('power', 'NOUN'),\n",
       " ('station', 'NOUN'),\n",
       " ('businesses', 'NOUN'),\n",
       " ('revolution', 'NOUN'),\n",
       " ('ground', 'NOUN')]"
      ]
     },
     "execution_count": 24,
     "metadata": {},
     "output_type": "execute_result"
    }
   ],
   "source": [
    "pos_list2 = [(token.text,token.pos_) for token in doc2 if token.pos_ == 'NOUN']\n",
    "pos_list2"
   ]
  },
  {
   "cell_type": "code",
   "execution_count": 27,
   "id": "225c3e92",
   "metadata": {},
   "outputs": [
    {
     "data": {
      "text/plain": [
       "[]"
      ]
     },
     "execution_count": 27,
     "metadata": {},
     "output_type": "execute_result"
    }
   ],
   "source": [
    "numeric_list2 = [(token.is_digit,token.pos_) for token in doc2 if token.is_digit]\n",
    "numeric_list2"
   ]
  },
  {
   "cell_type": "code",
   "execution_count": 29,
   "id": "8f81817b",
   "metadata": {},
   "outputs": [
    {
     "data": {
      "text/plain": [
       "[('90', 'NUM'), ('30', 'NUM'), ('50', 'NUM')]"
      ]
     },
     "execution_count": 29,
     "metadata": {},
     "output_type": "execute_result"
    }
   ],
   "source": [
    "numeric_list = [(token.text,token.pos_) for token in doc if token.is_digit]\n",
    "numeric_list"
   ]
  },
  {
   "cell_type": "code",
   "execution_count": 32,
   "id": "c1190a91",
   "metadata": {},
   "outputs": [],
   "source": [
    "from sumy.parsers.plaintext import PlaintextParser\n",
    "from sumy.nlp.tokenizers import Tokenizer\n",
    "from sumy.summarizers.lsa import LsaSummarizer"
   ]
  },
  {
   "cell_type": "code",
   "execution_count": 33,
   "id": "a970cac3",
   "metadata": {},
   "outputs": [
    {
     "name": "stdout",
     "output_type": "stream",
     "text": [
      "Modular construction involves utilizing engineered components in a manufacturing facility that are later assembled on-site.\n",
      "These components are designed for easy disassembling, enabling them to be reused in diverse projects, thus significantly reducing waste and conserving resources.\n",
      "Moreover, the modular approach allows greater flexibility, adapting to changing needs over time.\n"
     ]
    }
   ],
   "source": [
    "# Your text to be summarized\n",
    "text = df[\"solution\"][0]\n",
    "\n",
    "# Specify the language for tokenization\n",
    "language = \"english\"\n",
    "\n",
    "# Create a parser using PlaintextParser\n",
    "parser = PlaintextParser.from_string(text, Tokenizer(language))\n",
    "\n",
    "# Initialize the LSA Summarizer\n",
    "summarizer = LsaSummarizer()\n",
    "\n",
    "# Get the summary with a specified number of sentences\n",
    "summary = summarizer(parser.document, sentences_count=3)\n",
    "\n",
    "# Print the summarized text\n",
    "for sentence in summary:\n",
    "    print(sentence)"
   ]
  },
  {
   "cell_type": "code",
   "execution_count": 34,
   "id": "682bf5a7",
   "metadata": {},
   "outputs": [
    {
     "data": {
      "text/plain": [
       "\"Herein, we propose an innovative approach to mitigate this problem: Modular Construction. This method embraces recycling and reuse, taking a significant stride towards a circular economy.   Modular construction involves utilizing engineered components in a manufacturing facility that are later assembled on-site. These components are designed for easy disassembling, enabling them to be reused in diverse projects, thus significantly reducing waste and conserving resources.  Not only does this method decrease construction waste by up to 90%, but it also decreases construction time by 30-50%, optimizing both environmental and financial efficiency. This reduction in time corresponds to substantial financial savings for businesses. Moreover, the modular approach allows greater flexibility, adapting to changing needs over time.  We believe, by adopting modular construction, the industry can transit from a 'take, make and dispose' model to a more sustainable 'reduce, reuse, and recycle' model, driving the industry towards a more circular and sustainable future. The feasibility of this concept is already being proven in markets around the globe, indicating its potential for scalability and real-world application.\""
      ]
     },
     "execution_count": 34,
     "metadata": {},
     "output_type": "execute_result"
    }
   ],
   "source": [
    "df[\"solution\"][0]"
   ]
  },
  {
   "cell_type": "code",
   "execution_count": 35,
   "id": "e81042d3",
   "metadata": {},
   "outputs": [
    {
     "name": "stdout",
     "output_type": "stream",
     "text": [
      "The construction industry is indubitably one of the significant contributors to global waste, contributing approximately 1.3 billion tons of waste annually, exerting significant pressure on our landfills and natural resources.\n",
      "Traditional construction methods entail single-use designs that require frequent demolitions, leading to resource depletion and wastage.\n"
     ]
    }
   ],
   "source": [
    "# Your text to be summarized\n",
    "text = df[\"problem\"][0]\n",
    "\n",
    "# Specify the language for tokenization\n",
    "language = \"english\"\n",
    "\n",
    "# Create a parser using PlaintextParser\n",
    "parser = PlaintextParser.from_string(text, Tokenizer(language))\n",
    "\n",
    "# Initialize the LSA Summarizer\n",
    "summarizer = LsaSummarizer()\n",
    "\n",
    "# Get the summary with a specified number of sentences\n",
    "summary = summarizer(parser.document, sentences_count=3)\n",
    "\n",
    "# Print the summarized text\n",
    "for sentence in summary:\n",
    "    print(sentence)"
   ]
  },
  {
   "cell_type": "code",
   "execution_count": 46,
   "id": "fa2da91f",
   "metadata": {},
   "outputs": [
    {
     "name": "stderr",
     "output_type": "stream",
     "text": [
      "Some weights of the model checkpoint at bert-large-uncased were not used when initializing BertModel: ['cls.predictions.transform.dense.weight', 'cls.predictions.bias', 'cls.predictions.decoder.weight', 'cls.predictions.transform.dense.bias', 'cls.predictions.transform.LayerNorm.weight', 'cls.predictions.transform.LayerNorm.bias', 'cls.seq_relationship.weight', 'cls.seq_relationship.bias']\n",
      "- This IS expected if you are initializing BertModel from the checkpoint of a model trained on another task or with another architecture (e.g. initializing a BertForSequenceClassification model from a BertForPreTraining model).\n",
      "- This IS NOT expected if you are initializing BertModel from the checkpoint of a model that you expect to be exactly identical (initializing a BertForSequenceClassification model from a BertForSequenceClassification model).\n"
     ]
    }
   ],
   "source": [
    "from summarizer import Summarizer\n",
    "model = Summarizer()"
   ]
  },
  {
   "cell_type": "code",
   "execution_count": 50,
   "id": "d07d860d",
   "metadata": {},
   "outputs": [
    {
     "name": "stdout",
     "output_type": "stream",
     "text": [
      "Accelerated depletion of natural resources, landfill overflows, environmental pollution from the construction industry, and inadequate recycling of plastic waste.\n"
     ]
    }
   ],
   "source": [
    "text = df[\"problem\"][31]\n",
    "summary = model(text)    \n",
    "print(summary)"
   ]
  },
  {
   "cell_type": "code",
   "execution_count": 51,
   "id": "e944dfa7",
   "metadata": {},
   "outputs": [
    {
     "data": {
      "text/plain": [
       "'Accelerated depletion of natural resources, landfill overflows, environmental pollution from the construction industry, and inadequate recycling of plastic waste.  '"
      ]
     },
     "execution_count": 51,
     "metadata": {},
     "output_type": "execute_result"
    }
   ],
   "source": [
    "df[\"problem\"][31]"
   ]
  },
  {
   "cell_type": "code",
   "execution_count": 52,
   "id": "e7702e07",
   "metadata": {},
   "outputs": [],
   "source": [
    "doc31 = nlp(df[\"problem\"][31])"
   ]
  },
  {
   "cell_type": "code",
   "execution_count": 54,
   "id": "fb95aa7d",
   "metadata": {},
   "outputs": [
    {
     "data": {
      "text/plain": [
       "[('depletion', 'NOUN'),\n",
       " ('resources', 'NOUN'),\n",
       " ('landfill', 'NOUN'),\n",
       " ('pollution', 'NOUN'),\n",
       " ('construction', 'NOUN'),\n",
       " ('industry', 'NOUN'),\n",
       " ('recycling', 'NOUN'),\n",
       " ('waste', 'NOUN')]"
      ]
     },
     "execution_count": 54,
     "metadata": {},
     "output_type": "execute_result"
    }
   ],
   "source": [
    "pos_list31 = [(token.text,token.pos_) for token in doc31 if token.pos_ == 'NOUN']\n",
    "pos_list31"
   ]
  },
  {
   "cell_type": "code",
   "execution_count": 55,
   "id": "b9485e37",
   "metadata": {},
   "outputs": [
    {
     "data": {
      "text/plain": [
       "[('Landfills', 'NOUN'),\n",
       " ('waste', 'NOUN'),\n",
       " ('textile', 'NOUN'),\n",
       " ('industry', 'NOUN'),\n",
       " ('material', 'NOUN'),\n",
       " ('chemicals', 'NOUN'),\n",
       " ('dyes', 'NOUN'),\n",
       " ('part', 'NOUN'),\n",
       " ('waste', 'NOUN'),\n",
       " ('way', 'NOUN'),\n",
       " ('oceans', 'NOUN'),\n",
       " ('life', 'NOUN')]"
      ]
     },
     "execution_count": 55,
     "metadata": {},
     "output_type": "execute_result"
    }
   ],
   "source": [
    "pos_list30 = [(token.text,token.pos_) for token in nlp(df[\"problem\"][30]) if token.pos_ == 'NOUN']\n",
    "pos_list30"
   ]
  },
  {
   "cell_type": "code",
   "execution_count": 56,
   "id": "d2e58dfd",
   "metadata": {},
   "outputs": [
    {
     "data": {
      "text/plain": [
       "[('devices', 'NOUN'),\n",
       " ('smartphones', 'NOUN'),\n",
       " ('life', 'NOUN'),\n",
       " ('cycles', 'NOUN'),\n",
       " ('turnover', 'NOUN'),\n",
       " ('e', 'NOUN'),\n",
       " ('-', 'NOUN'),\n",
       " ('waste', 'NOUN'),\n",
       " ('problem', 'NOUN'),\n",
       " ('issues', 'NOUN')]"
      ]
     },
     "execution_count": 56,
     "metadata": {},
     "output_type": "execute_result"
    }
   ],
   "source": [
    "pos_list40 = [(token.text,token.pos_) for token in nlp(df[\"problem\"][40]) if token.pos_ == 'NOUN']\n",
    "pos_list40"
   ]
  },
  {
   "cell_type": "code",
   "execution_count": 68,
   "id": "852901d8",
   "metadata": {},
   "outputs": [
    {
     "name": "stdout",
     "output_type": "stream",
     "text": [
      "3\n",
      "0\n",
      "0\n",
      "0\n",
      "0\n",
      "0\n",
      "0\n",
      "3\n",
      "0\n",
      "0\n",
      "0\n",
      "0\n",
      "0\n",
      "0\n",
      "0\n",
      "0\n",
      "0\n",
      "0\n",
      "0\n",
      "0\n",
      "0\n",
      "1\n",
      "0\n",
      "0\n",
      "0\n",
      "0\n",
      "0\n",
      "0\n",
      "1\n",
      "0\n",
      "0\n",
      "11\n",
      "0\n",
      "0\n",
      "0\n",
      "0\n",
      "0\n",
      "0\n",
      "0\n",
      "0\n",
      "0\n",
      "0\n",
      "0\n",
      "0\n",
      "0\n",
      "0\n",
      "0\n",
      "0\n",
      "0\n",
      "0\n"
     ]
    }
   ],
   "source": [
    "for i in range(50):\n",
    "    print(len([token for token in nlp(df[\"solution\"][i]) if token.is_digit]))"
   ]
  },
  {
   "cell_type": "code",
   "execution_count": 67,
   "id": "8ae3c436",
   "metadata": {},
   "outputs": [
    {
     "data": {
      "text/plain": [
       "\"Herein, we propose an innovative approach to mitigate this problem: Modular Construction. This method embraces recycling and reuse, taking a significant stride towards a circular economy.   Modular construction involves utilizing engineered components in a manufacturing facility that are later assembled on-site. These components are designed for easy disassembling, enabling them to be reused in diverse projects, thus significantly reducing waste and conserving resources.  Not only does this method decrease construction waste by up to 90%, but it also decreases construction time by 30-50%, optimizing both environmental and financial efficiency. This reduction in time corresponds to substantial financial savings for businesses. Moreover, the modular approach allows greater flexibility, adapting to changing needs over time.  We believe, by adopting modular construction, the industry can transit from a 'take, make and dispose' model to a more sustainable 'reduce, reuse, and recycle' model, driving the industry towards a more circular and sustainable future. The feasibility of this concept is already being proven in markets around the globe, indicating its potential for scalability and real-world application.\""
      ]
     },
     "execution_count": 67,
     "metadata": {},
     "output_type": "execute_result"
    }
   ],
   "source": [
    "df[\"solution\"][0]"
   ]
  },
  {
   "cell_type": "code",
   "execution_count": 88,
   "id": "a4135650",
   "metadata": {},
   "outputs": [
    {
     "data": {
      "text/plain": [
       "\"We propose a Smartphone Leasing and Hardware as a Service (HaaS) model. This for-profit initiative involves leasing smartphones to customers with an agreement to return them at the end of the lease period. The returned smartphones are then refurbished and put back into the leasing circulation. Malfunctioning devices are broken down to component level and these components are used to refurbish other smartphones.   Above all, this approach discourages consumers' impulse for frequent device upgrades as the responsibility and cost of device disposal would be shifted from consumers to the leasing company. This instil a more sustainable consumer behaviour in technology use while still allowing access to the latest devices.   Novelty: This solution not only involves e-waste management but also challenges the traditional device ownership model. It is a financial service, a tech service, and a green initiative rolled into one.  Environmental Impact: This system dramatically reduces e-waste by extending product life and resource use. By inhibiting the urge for constant upgrade, it reduces the demand for new devices thus minimizing the exploitation of resources and environmental impact during manufacturing.  Financial Impact: This solution could be highly profitable and provides a steady income stream for businesses through leasing revenues. It reduces the purchase barrier, attracting a wider customer base who can access latest tech without hefty upfront costs.   Feasibility and Scalability of Implementation: The Solution is quite feasible as it leverages existing smartphone refurbishing techniques and reverse logistics infrastructure. The demand for smartphones is global, making it highly scalable. Regulatory compliance with waste management regulations, and user trust in terms of data security will be critical for success.\""
      ]
     },
     "execution_count": 88,
     "metadata": {},
     "output_type": "execute_result"
    }
   ],
   "source": [
    "df[\"solution\"][40]"
   ]
  },
  {
   "cell_type": "code",
   "execution_count": 83,
   "id": "deacca11",
   "metadata": {},
   "outputs": [
    {
     "name": "stdout",
     "output_type": "stream",
     "text": [
      "0\n",
      "0\n",
      "0\n",
      "0\n",
      "0\n",
      "2\n",
      "0\n",
      "0\n",
      "0\n",
      "0\n",
      "3\n",
      "1\n",
      "0\n",
      "0\n",
      "0\n",
      "0\n",
      "2\n",
      "1\n",
      "1\n",
      "1\n",
      "0\n",
      "0\n",
      "0\n",
      "0\n",
      "1\n",
      "0\n",
      "0\n",
      "1\n",
      "3\n",
      "0\n",
      "0\n",
      "2\n",
      "0\n",
      "0\n",
      "0\n",
      "0\n",
      "1\n",
      "0\n",
      "0\n",
      "0\n",
      "3\n",
      "0\n",
      "1\n",
      "2\n",
      "1\n",
      "1\n",
      "1\n",
      "0\n",
      "0\n",
      "0\n"
     ]
    }
   ],
   "source": [
    "for i in range(50):\n",
    "    print(df[\"solution\"][i].lower().count(\"impact\"))"
   ]
  },
  {
   "cell_type": "code",
   "execution_count": 92,
   "id": "a1c415bf",
   "metadata": {},
   "outputs": [
    {
     "name": "stdout",
     "output_type": "stream",
     "text": [
      "1\n",
      "0\n",
      "0\n",
      "1\n",
      "0\n",
      "2\n",
      "0\n",
      "0\n",
      "1\n",
      "0\n",
      "2\n",
      "1\n",
      "1\n",
      "0\n",
      "0\n",
      "1\n",
      "1\n",
      "0\n",
      "0\n",
      "0\n",
      "0\n",
      "0\n",
      "0\n",
      "0\n",
      "0\n",
      "0\n",
      "0\n",
      "0\n",
      "0\n",
      "0\n",
      "3\n",
      "1\n",
      "0\n",
      "0\n",
      "0\n",
      "0\n",
      "1\n",
      "1\n",
      "0\n",
      "0\n",
      "2\n",
      "0\n",
      "0\n",
      "1\n",
      "1\n",
      "0\n",
      "1\n",
      "0\n",
      "0\n",
      "0\n"
     ]
    }
   ],
   "source": [
    "for i in range(50):\n",
    "    print(df[\"solution\"][i].lower().count(\"feasible\") + df[\"solution\"][i].lower().count(\"feasibility\"))"
   ]
  },
  {
   "cell_type": "code",
   "execution_count": 93,
   "id": "4f1d220b",
   "metadata": {},
   "outputs": [
    {
     "data": {
      "text/plain": [
       "'The proposed solution is a garment rental service. Such a service should work closely with major clothing brands. When buying items, customers should have the option to buy or rent. This model would be like a subscription service where customers can select a set number of items each month, wear them, then return them for other items. Clothing would be professionally cleaned between customers and repaired as necessary to maximize its life cycle. When a garment is no longer suitable for rental, it can be recycled into new clothes. This solution reduces the number of garments produced, the amount of transportation needed, and the quantity of clothes going to landfills. Completely damaged or unusable textiles can be reused or recycled into new products. It also gives financial value to businesses as it transforms fashion from a single-purchase model into a subscription service, creating a continuous income stream. Its feasibility and scalability depend on factors such as location, culture, and income level. However, as digital platforms become more common for commerce, this concept could be globally implemented.'"
      ]
     },
     "execution_count": 93,
     "metadata": {},
     "output_type": "execute_result"
    }
   ],
   "source": [
    "df[\"solution\"][3]"
   ]
  },
  {
   "cell_type": "code",
   "execution_count": 98,
   "id": "4d65e014",
   "metadata": {},
   "outputs": [
    {
     "data": {
      "text/plain": [
       "['the',\n",
       " 'propose',\n",
       " 'solution',\n",
       " 'be',\n",
       " 'a',\n",
       " 'garment',\n",
       " 'rental',\n",
       " 'service',\n",
       " 'such',\n",
       " 'a',\n",
       " 'service',\n",
       " 'should',\n",
       " 'work',\n",
       " 'closely',\n",
       " 'with',\n",
       " 'major',\n",
       " 'clothing',\n",
       " 'brand',\n",
       " 'when',\n",
       " 'buy',\n",
       " 'item',\n",
       " 'customer',\n",
       " 'should',\n",
       " 'have',\n",
       " 'the',\n",
       " 'option',\n",
       " 'to',\n",
       " 'buy',\n",
       " 'or',\n",
       " 'rent',\n",
       " 'this',\n",
       " 'model',\n",
       " 'would',\n",
       " 'be',\n",
       " 'like',\n",
       " 'a',\n",
       " 'subscription',\n",
       " 'service',\n",
       " 'where',\n",
       " 'customer',\n",
       " 'can',\n",
       " 'select',\n",
       " 'a',\n",
       " 'set',\n",
       " 'number',\n",
       " 'of',\n",
       " 'item',\n",
       " 'each',\n",
       " 'month',\n",
       " 'wear',\n",
       " 'they',\n",
       " 'then',\n",
       " 'return',\n",
       " 'they',\n",
       " 'for',\n",
       " 'other',\n",
       " 'item',\n",
       " 'clothing',\n",
       " 'would',\n",
       " 'be',\n",
       " 'professionally',\n",
       " 'clean',\n",
       " 'between',\n",
       " 'customer',\n",
       " 'and',\n",
       " 'repair',\n",
       " 'as',\n",
       " 'necessary',\n",
       " 'to',\n",
       " 'maximize',\n",
       " 'its',\n",
       " 'life',\n",
       " 'cycle',\n",
       " 'when',\n",
       " 'a',\n",
       " 'garment',\n",
       " 'be',\n",
       " 'no',\n",
       " 'long',\n",
       " 'suitable',\n",
       " 'for',\n",
       " 'rental',\n",
       " 'it',\n",
       " 'can',\n",
       " 'be',\n",
       " 'recycle',\n",
       " 'into',\n",
       " 'new',\n",
       " 'clothe',\n",
       " 'this',\n",
       " 'solution',\n",
       " 'reduce',\n",
       " 'the',\n",
       " 'number',\n",
       " 'of',\n",
       " 'garment',\n",
       " 'produce',\n",
       " 'the',\n",
       " 'amount',\n",
       " 'of',\n",
       " 'transportation',\n",
       " 'need',\n",
       " 'and',\n",
       " 'the',\n",
       " 'quantity',\n",
       " 'of',\n",
       " 'clothe',\n",
       " 'go',\n",
       " 'to',\n",
       " 'landfill',\n",
       " 'completely',\n",
       " 'damage',\n",
       " 'or',\n",
       " 'unusable',\n",
       " 'textile',\n",
       " 'can',\n",
       " 'be',\n",
       " 'reuse',\n",
       " 'or',\n",
       " 'recycle',\n",
       " 'into',\n",
       " 'new',\n",
       " 'product',\n",
       " 'it',\n",
       " 'also',\n",
       " 'give',\n",
       " 'financial',\n",
       " 'value',\n",
       " 'to',\n",
       " 'business',\n",
       " 'as',\n",
       " 'it',\n",
       " 'transform',\n",
       " 'fashion',\n",
       " 'from',\n",
       " 'a',\n",
       " 'single',\n",
       " 'purchase',\n",
       " 'model',\n",
       " 'into',\n",
       " 'a',\n",
       " 'subscription',\n",
       " 'service',\n",
       " 'create',\n",
       " 'a',\n",
       " 'continuous',\n",
       " 'income',\n",
       " 'stream',\n",
       " 'its',\n",
       " 'feasibility',\n",
       " 'and',\n",
       " 'scalability',\n",
       " 'depend',\n",
       " 'on',\n",
       " 'factor',\n",
       " 'such',\n",
       " 'as',\n",
       " 'location',\n",
       " 'culture',\n",
       " 'and',\n",
       " 'income',\n",
       " 'level',\n",
       " 'however',\n",
       " 'as',\n",
       " 'digital',\n",
       " 'platform',\n",
       " 'become',\n",
       " 'more',\n",
       " 'common',\n",
       " 'for',\n",
       " 'commerce',\n",
       " 'this',\n",
       " 'concept',\n",
       " 'could',\n",
       " 'be',\n",
       " 'globally',\n",
       " 'implement']"
      ]
     },
     "execution_count": 98,
     "metadata": {},
     "output_type": "execute_result"
    }
   ],
   "source": [
    "[token.lemma_ for token in nlp(df[\"solution\"][3]) if not token.is_stop and not token.is_punct]"
   ]
  },
  {
   "cell_type": "code",
   "execution_count": 99,
   "id": "a897055b",
   "metadata": {},
   "outputs": [],
   "source": [
    "from sklearn.metrics.pairwise import cosine_similarity"
   ]
  },
  {
   "cell_type": "code",
   "execution_count": 101,
   "id": "87f3774a",
   "metadata": {},
   "outputs": [
    {
     "data": {
      "text/plain": [
       "1300"
      ]
     },
     "execution_count": 101,
     "metadata": {},
     "output_type": "execute_result"
    }
   ],
   "source": [
    "df.shape[0]"
   ]
  },
  {
   "cell_type": "code",
   "execution_count": 106,
   "id": "077a7398",
   "metadata": {},
   "outputs": [],
   "source": [
    "from sentence_transformers import SentenceTransformer"
   ]
  },
  {
   "cell_type": "code",
   "execution_count": 120,
   "id": "f9848414",
   "metadata": {},
   "outputs": [],
   "source": [
    "#model = SentenceTransformer('paraphrase-MiniLM-L6-v2')\n",
    "#from transformers.models.mctct import MCTCTConfig\n",
    "#similarity_problem_solution = []\n",
    "#for i in range(df.shape[0]):"
   ]
  },
  {
   "cell_type": "code",
   "execution_count": null,
   "id": "92e01fd4",
   "metadata": {},
   "outputs": [],
   "source": []
  }
 ],
 "metadata": {
  "kernelspec": {
   "display_name": "Python 3 (ipykernel)",
   "language": "python",
   "name": "python3"
  },
  "language_info": {
   "codemirror_mode": {
    "name": "ipython",
    "version": 3
   },
   "file_extension": ".py",
   "mimetype": "text/x-python",
   "name": "python",
   "nbconvert_exporter": "python",
   "pygments_lexer": "ipython3",
   "version": "3.11.3"
  }
 },
 "nbformat": 4,
 "nbformat_minor": 5
}
